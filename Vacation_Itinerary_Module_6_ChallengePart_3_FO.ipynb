{
 "cells": [
  {
   "cell_type": "code",
   "execution_count": 1,
   "metadata": {},
   "outputs": [],
   "source": [
    "#             Vacation_Itinerary_Module_6_ChallengePart_3"
   ]
  },
  {
   "cell_type": "code",
   "execution_count": 19,
   "metadata": {},
   "outputs": [],
   "source": [
    "# Import the dependencies.\n",
    "import pandas as pd\n",
    "import matplotlib.pyplot as plt\n",
    "import numpy as np\n",
    "import citipy\n",
    "import requests\n",
    "import time\n",
    "import matplotlib\n",
    "import gmaps\n",
    "\n",
    "from datetime import datetime\n",
    "\n",
    "# Import the API key.\n",
    "from config import weather_api_key\n",
    "from config import g_key\n",
    "\n",
    "gmaps.configure(api_key=g_key)\n"
   ]
  },
  {
   "cell_type": "code",
   "execution_count": 20,
   "metadata": {},
   "outputs": [
    {
     "data": {
      "text/html": [
       "<div>\n",
       "<style scoped>\n",
       "    .dataframe tbody tr th:only-of-type {\n",
       "        vertical-align: middle;\n",
       "    }\n",
       "\n",
       "    .dataframe tbody tr th {\n",
       "        vertical-align: top;\n",
       "    }\n",
       "\n",
       "    .dataframe thead th {\n",
       "        text-align: right;\n",
       "    }\n",
       "</style>\n",
       "<table border=\"1\" class=\"dataframe\">\n",
       "  <thead>\n",
       "    <tr style=\"text-align: right;\">\n",
       "      <th></th>\n",
       "      <th>City_ID</th>\n",
       "      <th>City</th>\n",
       "      <th>Country</th>\n",
       "      <th>Max Temp</th>\n",
       "      <th>Lat</th>\n",
       "      <th>Lng</th>\n",
       "      <th>Hotel Name</th>\n",
       "      <th>Hotel name</th>\n",
       "    </tr>\n",
       "  </thead>\n",
       "  <tbody>\n",
       "    <tr>\n",
       "      <th>0</th>\n",
       "      <td>1</td>\n",
       "      <td>Albany</td>\n",
       "      <td>US</td>\n",
       "      <td>75.99</td>\n",
       "      <td>42.60</td>\n",
       "      <td>-73.97</td>\n",
       "      <td>NaN</td>\n",
       "      <td>NaN</td>\n",
       "    </tr>\n",
       "    <tr>\n",
       "      <th>1</th>\n",
       "      <td>7</td>\n",
       "      <td>Urumqi</td>\n",
       "      <td>CN</td>\n",
       "      <td>77.00</td>\n",
       "      <td>43.80</td>\n",
       "      <td>87.60</td>\n",
       "      <td>NaN</td>\n",
       "      <td>Hua Ling Grand Hotel Urumqi</td>\n",
       "    </tr>\n",
       "    <tr>\n",
       "      <th>2</th>\n",
       "      <td>8</td>\n",
       "      <td>Rikitea</td>\n",
       "      <td>PF</td>\n",
       "      <td>75.38</td>\n",
       "      <td>-23.12</td>\n",
       "      <td>-134.97</td>\n",
       "      <td>NaN</td>\n",
       "      <td>Pension Maro'i</td>\n",
       "    </tr>\n",
       "    <tr>\n",
       "      <th>3</th>\n",
       "      <td>9</td>\n",
       "      <td>Puerto Ayora</td>\n",
       "      <td>EC</td>\n",
       "      <td>70.00</td>\n",
       "      <td>-0.74</td>\n",
       "      <td>-90.35</td>\n",
       "      <td>NaN</td>\n",
       "      <td>Finch Bay Galapagos Hotel</td>\n",
       "    </tr>\n",
       "    <tr>\n",
       "      <th>4</th>\n",
       "      <td>11</td>\n",
       "      <td>Santa Leopoldina</td>\n",
       "      <td>BR</td>\n",
       "      <td>70.00</td>\n",
       "      <td>-20.10</td>\n",
       "      <td>-40.53</td>\n",
       "      <td>NaN</td>\n",
       "      <td>Pousada e padaria central</td>\n",
       "    </tr>\n",
       "  </tbody>\n",
       "</table>\n",
       "</div>"
      ],
      "text/plain": [
       "   City_ID              City Country  Max Temp    Lat     Lng  Hotel Name  \\\n",
       "0        1            Albany      US     75.99  42.60  -73.97         NaN   \n",
       "1        7            Urumqi      CN     77.00  43.80   87.60         NaN   \n",
       "2        8           Rikitea      PF     75.38 -23.12 -134.97         NaN   \n",
       "3        9      Puerto Ayora      EC     70.00  -0.74  -90.35         NaN   \n",
       "4       11  Santa Leopoldina      BR     70.00 -20.10  -40.53         NaN   \n",
       "\n",
       "                    Hotel name  \n",
       "0                          NaN  \n",
       "1  Hua Ling Grand Hotel Urumqi  \n",
       "2               Pension Maro'i  \n",
       "3    Finch Bay Galapagos Hotel  \n",
       "4    Pousada e padaria central  "
      ]
     },
     "execution_count": 20,
     "metadata": {},
     "output_type": "execute_result"
    }
   ],
   "source": [
    "vacation_df = pd.read_csv(\"WeatherPy_Vacation.csv\")\n",
    "\n",
    "vacation_df.head()"
   ]
  },
  {
   "cell_type": "code",
   "execution_count": 21,
   "metadata": {},
   "outputs": [],
   "source": [
    "# Use the template to add the hotel marks to the heatmap\n",
    "\n",
    "info_box_template = \"\"\"\n",
    "<dl>\n",
    "<dt>Hotel Name</dt><dd>{Hotel Name}</dd>\n",
    "<dt>City</dt><dd>{City}</dd>\n",
    "<dt>Country</dt><dd>{Country}</dd>\n",
    "<dt>Hotel Name</dt><dd>{Hotel Name} at {Max Temp}</dd>\n",
    "\"\"\"\n",
    "hotel_info = [info_box_template.format(**row) for index, row in vacation_df.iterrows()]\n",
    "locations = vacation_df[[\"Lat\", \"Lng\"]]"
   ]
  },
  {
   "cell_type": "code",
   "execution_count": 22,
   "metadata": {},
   "outputs": [
    {
     "data": {
      "application/vnd.jupyter.widget-view+json": {
       "model_id": "6d6e9049b0cf48389be1dbf2686b605c",
       "version_major": 2,
       "version_minor": 0
      },
      "text/plain": [
       "Figure(layout=FigureLayout(height='420px'))"
      ]
     },
     "metadata": {},
     "output_type": "display_data"
    }
   ],
   "source": [
    "marker_layer = gmaps.marker_layer(locations, info_box_content=hotel_info)\n",
    "fig = gmaps.figure()\n",
    "fig.add_layer(marker_layer)\n",
    "\n",
    "fig\n"
   ]
  },
  {
   "cell_type": "code",
   "execution_count": 25,
   "metadata": {},
   "outputs": [],
   "source": [
    "# \n",
    "vacation_start = vacation_df.loc[vacation_df[\"City\"] == \"Billings\"]\n",
    "vacation_end = vacation_df.loc[vacation_df[\"City\"] == \"Miami\"]\n",
    "vacation_stop1 = vacation_df.loc[vacation_df[\"City\"] == \"Riverton\"]\n",
    "vacation_stop2 = vacation_df.loc[vacation_df[\"City\"] == \"Snyder\"]\n"
   ]
  },
  {
   "cell_type": "code",
   "execution_count": 26,
   "metadata": {},
   "outputs": [
    {
     "name": "stdout",
     "output_type": "stream",
     "text": [
      "(45.78, -108.5)\n",
      "(25.77, -80.19)\n",
      "(40.52, -111.94)\n",
      "(32.72, -100.92)\n"
     ]
    }
   ],
   "source": [
    "\n",
    "start = vacation_start[\"Lat\"].values[0], vacation_start[\"Lng\"].values[0]\n",
    "end = vacation_end[\"Lat\"].values[0], vacation_end[\"Lng\"].values[0]\n",
    "stop1 = vacation_stop1[\"Lat\"].values[0], vacation_stop1[\"Lng\"].values[0]\n",
    "stop2 = vacation_stop2[\"Lat\"].values[0], vacation_stop2[\"Lng\"].values[0]\n",
    "\n",
    "print(start)\n",
    "print(end)\n",
    "print(stop1)\n",
    "print(stop2)"
   ]
  },
  {
   "cell_type": "code",
   "execution_count": 27,
   "metadata": {},
   "outputs": [
    {
     "data": {
      "application/vnd.jupyter.widget-view+json": {
       "model_id": "cf70f2ac296c4e0ca20374756d5080d7",
       "version_major": 2,
       "version_minor": 0
      },
      "text/plain": [
       "Figure(layout=FigureLayout(height='420px'))"
      ]
     },
     "metadata": {},
     "output_type": "display_data"
    }
   ],
   "source": [
    "\n",
    "fig = gmaps.figure()\n",
    "vacation_itinerary = gmaps.directions_layer(\n",
    "    start, end, waypoints=[stop1,stop2],\n",
    "    travel_mode=\"DRIVING\"\n",
    ")\n",
    "fig.add_layer(vacation_itinerary)\n",
    "\n",
    "fig"
   ]
  },
  {
   "cell_type": "code",
   "execution_count": 9,
   "metadata": {},
   "outputs": [
    {
     "data": {
      "text/html": [
       "<div>\n",
       "<style scoped>\n",
       "    .dataframe tbody tr th:only-of-type {\n",
       "        vertical-align: middle;\n",
       "    }\n",
       "\n",
       "    .dataframe tbody tr th {\n",
       "        vertical-align: top;\n",
       "    }\n",
       "\n",
       "    .dataframe thead th {\n",
       "        text-align: right;\n",
       "    }\n",
       "</style>\n",
       "<table border=\"1\" class=\"dataframe\">\n",
       "  <thead>\n",
       "    <tr style=\"text-align: right;\">\n",
       "      <th></th>\n",
       "      <th>City_ID</th>\n",
       "      <th>City</th>\n",
       "      <th>Country</th>\n",
       "      <th>Max Temp</th>\n",
       "      <th>Lat</th>\n",
       "      <th>Lng</th>\n",
       "      <th>Hotel Name</th>\n",
       "      <th>Hotel name</th>\n",
       "    </tr>\n",
       "  </thead>\n",
       "  <tbody>\n",
       "    <tr>\n",
       "      <th>119</th>\n",
       "      <td>403</td>\n",
       "      <td>Billings</td>\n",
       "      <td>US</td>\n",
       "      <td>66.00</td>\n",
       "      <td>45.78</td>\n",
       "      <td>-108.50</td>\n",
       "      <td>NaN</td>\n",
       "      <td>Best Western Plus Clocktower Inn</td>\n",
       "    </tr>\n",
       "    <tr>\n",
       "      <th>87</th>\n",
       "      <td>343</td>\n",
       "      <td>Riverton</td>\n",
       "      <td>US</td>\n",
       "      <td>66.99</td>\n",
       "      <td>40.52</td>\n",
       "      <td>-111.94</td>\n",
       "      <td>NaN</td>\n",
       "      <td>Ramada by Wyndham Draper</td>\n",
       "    </tr>\n",
       "    <tr>\n",
       "      <th>134</th>\n",
       "      <td>467</td>\n",
       "      <td>Snyder</td>\n",
       "      <td>US</td>\n",
       "      <td>71.60</td>\n",
       "      <td>32.72</td>\n",
       "      <td>-100.92</td>\n",
       "      <td>NaN</td>\n",
       "      <td>Holiday Inn Express &amp; Suites Snyder</td>\n",
       "    </tr>\n",
       "  </tbody>\n",
       "</table>\n",
       "</div>"
      ],
      "text/plain": [
       "     City_ID      City Country  Max Temp    Lat     Lng  Hotel Name  \\\n",
       "119      403  Billings      US     66.00  45.78 -108.50         NaN   \n",
       "87       343  Riverton      US     66.99  40.52 -111.94         NaN   \n",
       "134      467    Snyder      US     71.60  32.72 -100.92         NaN   \n",
       "\n",
       "                              Hotel name  \n",
       "119     Best Western Plus Clocktower Inn  \n",
       "87              Ramada by Wyndham Draper  \n",
       "134  Holiday Inn Express & Suites Snyder  "
      ]
     },
     "execution_count": 9,
     "metadata": {},
     "output_type": "execute_result"
    }
   ],
   "source": [
    "itenerary_df = pd.concat([vacation_start, vacation_end, vacation_stop1, vacation_stop2])\n",
    "\n",
    "itenerary_df\n"
   ]
  },
  {
   "cell_type": "code",
   "execution_count": 10,
   "metadata": {},
   "outputs": [
    {
     "data": {
      "text/html": [
       "<div>\n",
       "<style scoped>\n",
       "    .dataframe tbody tr th:only-of-type {\n",
       "        vertical-align: middle;\n",
       "    }\n",
       "\n",
       "    .dataframe tbody tr th {\n",
       "        vertical-align: top;\n",
       "    }\n",
       "\n",
       "    .dataframe thead th {\n",
       "        text-align: right;\n",
       "    }\n",
       "</style>\n",
       "<table border=\"1\" class=\"dataframe\">\n",
       "  <thead>\n",
       "    <tr style=\"text-align: right;\">\n",
       "      <th></th>\n",
       "      <th>City_ID</th>\n",
       "      <th>City</th>\n",
       "      <th>Country</th>\n",
       "      <th>Max Temp</th>\n",
       "      <th>Lat</th>\n",
       "      <th>Lng</th>\n",
       "      <th>Hotel Name</th>\n",
       "      <th>Hotel name</th>\n",
       "    </tr>\n",
       "  </thead>\n",
       "  <tbody>\n",
       "    <tr>\n",
       "      <th>0</th>\n",
       "      <td>403</td>\n",
       "      <td>Billings</td>\n",
       "      <td>US</td>\n",
       "      <td>66.00</td>\n",
       "      <td>45.78</td>\n",
       "      <td>-108.50</td>\n",
       "      <td>NaN</td>\n",
       "      <td>Best Western Plus Clocktower Inn</td>\n",
       "    </tr>\n",
       "    <tr>\n",
       "      <th>1</th>\n",
       "      <td>343</td>\n",
       "      <td>Riverton</td>\n",
       "      <td>US</td>\n",
       "      <td>66.99</td>\n",
       "      <td>40.52</td>\n",
       "      <td>-111.94</td>\n",
       "      <td>NaN</td>\n",
       "      <td>Ramada by Wyndham Draper</td>\n",
       "    </tr>\n",
       "    <tr>\n",
       "      <th>2</th>\n",
       "      <td>467</td>\n",
       "      <td>Snyder</td>\n",
       "      <td>US</td>\n",
       "      <td>71.60</td>\n",
       "      <td>32.72</td>\n",
       "      <td>-100.92</td>\n",
       "      <td>NaN</td>\n",
       "      <td>Holiday Inn Express &amp; Suites Snyder</td>\n",
       "    </tr>\n",
       "  </tbody>\n",
       "</table>\n",
       "</div>"
      ],
      "text/plain": [
       "   City_ID      City Country  Max Temp    Lat     Lng  Hotel Name  \\\n",
       "0      403  Billings      US     66.00  45.78 -108.50         NaN   \n",
       "1      343  Riverton      US     66.99  40.52 -111.94         NaN   \n",
       "2      467    Snyder      US     71.60  32.72 -100.92         NaN   \n",
       "\n",
       "                            Hotel name  \n",
       "0     Best Western Plus Clocktower Inn  \n",
       "1             Ramada by Wyndham Draper  \n",
       "2  Holiday Inn Express & Suites Snyder  "
      ]
     },
     "execution_count": 10,
     "metadata": {},
     "output_type": "execute_result"
    }
   ],
   "source": [
    "itenerary_df.reset_index(drop=True)"
   ]
  },
  {
   "cell_type": "code",
   "execution_count": 11,
   "metadata": {},
   "outputs": [],
   "source": [
    "\n",
    "info_box_template = \"\"\"\n",
    "<dl>\n",
    "<dt>Hotel Name</dt><dd>{Hotel Name}</dd>\n",
    "<dt>City</dt><dd>{City}</dd>\n",
    "<dt>Country</dt><dd>{Country}</dd>\n",
    "<dt>Hotel Name</dt><dd>{Hotel Name} at {Max Temp}</dd>\n",
    "\"\"\"\n",
    "hotel_info = [info_box_template.format(**row) for index, row in itenerary_df.iterrows()]\n",
    "locations = itenerary_df[[\"Lat\", \"Lng\"]]"
   ]
  },
  {
   "cell_type": "code",
   "execution_count": 28,
   "metadata": {
    "scrolled": true
   },
   "outputs": [
    {
     "data": {
      "application/vnd.jupyter.widget-view+json": {
       "model_id": "44e194f76a3e4c4f86c83bd28f212322",
       "version_major": 2,
       "version_minor": 0
      },
      "text/plain": [
       "Figure(layout=FigureLayout(height='420px'))"
      ]
     },
     "metadata": {},
     "output_type": "display_data"
    }
   ],
   "source": [
    "vacation_start = vacation_df.loc[vacation_df[\"City\"] == \"Billings\"]\n",
    "vacation_end = vacation_df.loc[vacation_df[\"City\"] == \"Miami\"]\n",
    "vacation_stop1 = vacation_df.loc[vacation_df[\"City\"] == \"Riverton\"]\n",
    "vacation_stop2 = vacation_df.loc[vacation_df[\"City\"] == \"Snyder\"]\n",
    "\n",
    "\n",
    "\n",
    "\n",
    "\n",
    "marker_layer = gmaps.marker_layer(locations, info_box_content=hotel_info)\n",
    "fig = gmaps.figure()\n",
    "fig.add_layer(marker_layer)\n",
    "\n",
    "fig\n"
   ]
  },
  {
   "cell_type": "code",
   "execution_count": null,
   "metadata": {},
   "outputs": [],
   "source": []
  },
  {
   "cell_type": "code",
   "execution_count": null,
   "metadata": {},
   "outputs": [],
   "source": []
  }
 ],
 "metadata": {
  "kernelspec": {
   "display_name": "Python 3",
   "language": "python",
   "name": "python3"
  },
  "language_info": {
   "codemirror_mode": {
    "name": "ipython",
    "version": 3
   },
   "file_extension": ".py",
   "mimetype": "text/x-python",
   "name": "python",
   "nbconvert_exporter": "python",
   "pygments_lexer": "ipython3",
   "version": "3.7.6"
  }
 },
 "nbformat": 4,
 "nbformat_minor": 4
}
